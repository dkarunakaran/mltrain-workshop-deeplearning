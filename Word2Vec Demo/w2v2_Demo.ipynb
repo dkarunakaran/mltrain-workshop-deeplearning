{
 "cells": [
  {
   "cell_type": "code",
   "execution_count": 1,
   "metadata": {
    "collapsed": true
   },
   "outputs": [],
   "source": [
    "#Word2Vec Demo. ML Train Atlanta 2017. \n",
    "\n",
    "#1. Install word2vec gensim package:\n",
    "#Can be done easily with conda: https://anaconda.org/anaconda/gensim\n",
    "#E.g. >conda install gensim. \n",
    "\n",
    "#2. download GoogleNews-vectors-negative300.bin.gz \n",
    "#This is a pre-trained word2vec from https://code.google.com/p/word2vec/ \n",
    "#\n",
    "#Cool paper to read http://www.cs.bgu.ac.il/~yoavg/publications/conll2014analogies.pdf\n",
    "#https://radimrehurek.com/gensim/models/word2vec.html#id8\n",
    "\n",
    "\n",
    "\n"
   ]
  },
  {
   "cell_type": "code",
   "execution_count": 2,
   "metadata": {
    "collapsed": false
   },
   "outputs": [
    {
     "name": "stderr",
     "output_type": "stream",
     "text": [
      "/Users/adimold/anaconda2/lib/python2.7/site-packages/matplotlib/font_manager.py:273: UserWarning: Matplotlib is building the font cache using fc-list. This may take a moment.\n",
      "  warnings.warn('Matplotlib is building the font cache using fc-list. This may take a moment.')\n"
     ]
    }
   ],
   "source": [
    "import numpy as np\n",
    "import matplotlib.pyplot as plt "
   ]
  },
  {
   "cell_type": "code",
   "execution_count": 3,
   "metadata": {
    "collapsed": false
   },
   "outputs": [
    {
     "name": "stderr",
     "output_type": "stream",
     "text": [
      "WARNING (theano.configdefaults): g++ not detected ! Theano will be unable to execute optimized C-implementations (for both CPU and GPU) and will default to Python implementations. Performance will be severely degraded. To remove this warning, set Theano flags cxx to an empty string.\n"
     ]
    }
   ],
   "source": [
    "from gensim import models  #hopefully you have installed gensim "
   ]
  },
  {
   "cell_type": "code",
   "execution_count": 4,
   "metadata": {
    "collapsed": true
   },
   "outputs": [],
   "source": [
    "w = models.Word2Vec.load_word2vec_format('GoogleNews-vectors-negative300.bin', binary=True)\n",
    "#This takes a while. Wait...\n"
   ]
  },
  {
   "cell_type": "code",
   "execution_count": 5,
   "metadata": {
    "collapsed": false,
    "scrolled": true
   },
   "outputs": [
    {
     "name": "stdout",
     "output_type": "stream",
     "text": [
      "[ 0.00524902 -0.14355469 -0.06933594  0.12353516  0.13183594 -0.08886719\n",
      " -0.07128906 -0.21679688 -0.19726562  0.05566406 -0.07568359 -0.38085938\n",
      "  0.10400391 -0.00081635  0.1328125   0.11279297  0.07275391 -0.046875\n",
      "  0.06591797  0.09423828  0.19042969  0.13671875 -0.23632812 -0.11865234\n",
      "  0.06542969 -0.05322266 -0.30859375  0.09179688  0.18847656 -0.16699219\n",
      " -0.15625    -0.13085938 -0.08251953  0.21289062 -0.35546875 -0.13183594\n",
      "  0.09619141  0.26367188 -0.09472656  0.18359375  0.10693359 -0.41601562\n",
      "  0.26953125 -0.02770996  0.17578125 -0.11279297 -0.00411987  0.14550781\n",
      "  0.15625     0.26757812 -0.01794434  0.09863281  0.05297852 -0.03125\n",
      " -0.16308594 -0.05810547 -0.34375    -0.17285156  0.11425781 -0.09033203\n",
      "  0.13476562  0.27929688 -0.04980469  0.12988281  0.17578125 -0.22167969\n",
      " -0.01190186  0.140625   -0.18164062  0.11865234  0.16113281  0.21484375\n",
      " -0.21191406  0.12695312 -0.10009766  0.13671875  0.12695312  0.01531982\n",
      "  0.10449219 -0.02783203 -0.06030273  0.0222168   0.18164062 -0.06738281\n",
      "  0.04907227  0.15429688 -0.25        0.13964844  0.29492188  0.10644531\n",
      "  0.3359375  -0.22265625 -0.125      -0.05297852  0.19238281  0.06835938\n",
      "  0.06982422 -0.05200195  0.14453125  0.00448608 -0.01013184 -0.1484375\n",
      "  0.21777344 -0.1953125  -0.390625    0.07763672 -0.57421875 -0.07910156\n",
      " -0.04052734 -0.1875      0.25390625  0.15722656  0.125       0.140625\n",
      "  0.20117188 -0.05859375  0.16894531 -0.28125     0.171875    0.19140625\n",
      "  0.12109375 -0.15039062 -0.00695801 -0.23730469  0.13964844 -0.00836182\n",
      " -0.04711914  0.14648438 -0.05688477  0.10205078  0.08447266  0.21191406\n",
      " -0.01831055  0.50390625 -0.04858398  0.22167969 -0.25585938  0.03417969\n",
      "  0.15820312 -0.03369141  0.06738281 -0.25195312  0.04614258 -0.07275391\n",
      "  0.07958984  0.04223633 -0.00128937  0.20214844 -0.13085938 -0.06030273\n",
      "  0.0378418   0.13574219  0.11181641 -0.24609375 -0.23925781 -0.23632812\n",
      " -0.04321289 -0.02905273  0.23535156 -0.00390625 -0.05029297  0.18457031\n",
      "  0.50390625 -0.00668335 -0.03466797 -0.07568359  0.06152344 -0.31445312\n",
      " -0.03759766  0.23632812 -0.12792969  0.15429688  0.296875    0.02709961\n",
      " -0.17089844 -0.22460938  0.00241089  0.10595703 -0.03320312  0.0145874\n",
      " -0.21582031  0.24707031 -0.07421875 -0.10205078  0.16894531 -0.05029297\n",
      "  0.20800781 -0.03857422 -0.22265625  0.27539062 -0.05957031 -0.01757812\n",
      "  0.01794434  0.08886719  0.12890625  0.18261719  0.14453125  0.10400391\n",
      " -0.1328125  -0.32617188  0.00386047 -0.11376953 -0.05053711 -0.13085938\n",
      "  0.02209473 -0.14648438  0.10742188  0.23046875  0.15234375  0.22753906\n",
      "  0.04833984  0.06787109 -0.06787109 -0.2578125   0.11230469  0.00363159\n",
      " -0.12011719 -0.21289062  0.11230469  0.12158203  0.06835938  0.04907227\n",
      "  0.2734375  -0.00302124 -0.00378418  0.00193787  0.1875     -0.29101562\n",
      "  0.09033203  0.26367188 -0.25585938 -0.28710938 -0.40820312  0.10546875\n",
      "  0.39648438 -0.07275391 -0.04321289 -0.06347656 -0.00060272 -0.11523438\n",
      "  0.31445312 -0.22265625  0.13574219 -0.01965332  0.15332031  0.00360107\n",
      " -0.12011719  0.06494141  0.16210938 -0.16699219  0.03271484 -0.00350952\n",
      "  0.18847656  0.19335938  0.1328125   0.06787109 -0.34179688 -0.08349609\n",
      " -0.29492188 -0.02099609  0.08886719  0.32421875 -0.36914062 -0.0859375\n",
      " -0.04956055  0.13183594  0.04418945  0.359375    0.21484375  0.265625\n",
      " -0.2734375   0.23535156  0.11425781  0.08789062  0.1875     -0.33203125\n",
      "  0.15136719 -0.03613281 -0.11914062  0.27734375  0.10839844 -0.07275391\n",
      "  0.23242188  0.00219727  0.23828125 -0.24902344 -0.12353516 -0.15917969\n",
      " -0.00601196  0.14550781 -0.00460815 -0.22558594 -0.37890625 -0.37695312\n",
      " -0.08251953 -0.04125977  0.16796875 -0.046875    0.16308594  0.15429688]\n"
     ]
    }
   ],
   "source": [
    "print w[\"queen\"]   #gives you the 300 dimensional vector for queen \n"
   ]
  },
  {
   "cell_type": "code",
   "execution_count": 6,
   "metadata": {
    "collapsed": false
   },
   "outputs": [
    {
     "data": {
      "text/plain": [
       "[(u'woman', 0.7664012312889099),\n",
       " (u'boy', 0.6824870109558105),\n",
       " (u'teenager', 0.6586930751800537),\n",
       " (u'teenage_girl', 0.6147903203964233),\n",
       " (u'girl', 0.5921714305877686),\n",
       " (u'suspected_purse_snatcher', 0.571636438369751),\n",
       " (u'robber', 0.5585119128227234),\n",
       " (u'Robbery_suspect', 0.5584409236907959),\n",
       " (u'teen_ager', 0.5549196004867554),\n",
       " (u'men', 0.5489763021469116)]"
      ]
     },
     "execution_count": 6,
     "metadata": {},
     "output_type": "execute_result"
    }
   ],
   "source": [
    "w.most_similar('man')  #very slow\n"
   ]
  },
  {
   "cell_type": "code",
   "execution_count": 25,
   "metadata": {
    "collapsed": false
   },
   "outputs": [
    {
     "data": {
      "text/plain": [
       "'hovercraft'"
      ]
     },
     "execution_count": 25,
     "metadata": {},
     "output_type": "execute_result"
    }
   ],
   "source": [
    "w.doesnt_match(\"breakfast cereal hovercraft dinner lunch\".split())\n"
   ]
  },
  {
   "cell_type": "code",
   "execution_count": 18,
   "metadata": {
    "collapsed": false
   },
   "outputs": [
    {
     "data": {
      "text/plain": [
       "'Britain'"
      ]
     },
     "execution_count": 18,
     "metadata": {},
     "output_type": "execute_result"
    }
   ],
   "source": [
    "w.doesnt_match(\"Greece Italy Portugal France Spain Britain\".split())"
   ]
  },
  {
   "cell_type": "code",
   "execution_count": 10,
   "metadata": {
    "collapsed": false
   },
   "outputs": [
    {
     "data": {
      "text/plain": [
       "'Mathematics'"
      ]
     },
     "execution_count": 10,
     "metadata": {},
     "output_type": "execute_result"
    }
   ],
   "source": [
    "w.doesnt_match(\"Physics Mathematics Chemistry  \".split() )"
   ]
  },
  {
   "cell_type": "code",
   "execution_count": 11,
   "metadata": {
    "collapsed": false
   },
   "outputs": [
    {
     "data": {
      "text/plain": [
       "'Large'"
      ]
     },
     "execution_count": 11,
     "metadata": {},
     "output_type": "execute_result"
    }
   ],
   "source": [
    "w.doesnt_match(\"CS Phd, Math Phd, Engineering Phd, Large Pizza\".split() )"
   ]
  },
  {
   "cell_type": "code",
   "execution_count": 41,
   "metadata": {
    "collapsed": false
   },
   "outputs": [
    {
     "data": {
      "text/plain": [
       "[(u'queen', 0.7118192315101624),\n",
       " (u'monarch', 0.6189674139022827),\n",
       " (u'princess', 0.5902431011199951),\n",
       " (u'crown_prince', 0.5499460697174072),\n",
       " (u'prince', 0.5377321839332581)]"
      ]
     },
     "execution_count": 41,
     "metadata": {},
     "output_type": "execute_result"
    }
   ],
   "source": [
    "w.most_similar(positive=['woman', 'king'], negative=['man'], topn=5)\n"
   ]
  },
  {
   "cell_type": "code",
   "execution_count": 12,
   "metadata": {
    "collapsed": false
   },
   "outputs": [
    {
     "data": {
      "text/plain": [
       "[(u'apples', 0.629400372505188),\n",
       " (u'fruit', 0.5266305208206177),\n",
       " (u'berry', 0.5133711695671082),\n",
       " (u'peach', 0.5126671195030212),\n",
       " (u'loquat', 0.5078336596488953),\n",
       " (u'pears', 0.505781888961792),\n",
       " (u'strawberry', 0.5045647621154785),\n",
       " (u'Granny_Smiths', 0.5025818943977356),\n",
       " (u'seedless_watermelon', 0.5014135837554932),\n",
       " (u'Apples', 0.4930630624294281)]"
      ]
     },
     "execution_count": 12,
     "metadata": {},
     "output_type": "execute_result"
    }
   ],
   "source": [
    "w.most_similar(positive=['apple', 'yellow'], negative=['red'], topn=10)\n"
   ]
  },
  {
   "cell_type": "code",
   "execution_count": null,
   "metadata": {
    "collapsed": true
   },
   "outputs": [],
   "source": []
  }
 ],
 "metadata": {
  "anaconda-cloud": {},
  "kernelspec": {
   "display_name": "Python [Root]",
   "language": "python",
   "name": "Python [Root]"
  },
  "language_info": {
   "codemirror_mode": {
    "name": "ipython",
    "version": 2
   },
   "file_extension": ".py",
   "mimetype": "text/x-python",
   "name": "python",
   "nbconvert_exporter": "python",
   "pygments_lexer": "ipython2",
   "version": "2.7.12"
  }
 },
 "nbformat": 4,
 "nbformat_minor": 0
}
